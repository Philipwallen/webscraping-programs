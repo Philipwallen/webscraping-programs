{
 "cells": [
  {
   "cell_type": "code",
   "execution_count": 88,
   "metadata": {},
   "outputs": [
    {
     "name": "stdout",
     "output_type": "stream",
     "text": [
      "Success\n"
     ]
    }
   ],
   "source": [
    "import requests\n",
    "from bs4 import BeautifulSoup\n",
    "import pandas as pd\n",
    "\n",
    "req = requests.get('https://www.python.org/jobs/')\n",
    "con = req.content\n",
    "\n",
    "soup = BeautifulSoup(con, 'html.parser')\n",
    "\n",
    "jobs = soup.find('ol', {'class': 'list-recent-jobs list-row-container menu'})\n",
    "\n",
    "job_list = []\n",
    "\n",
    "for details in jobs:\n",
    "    current = jobs.find_all('span', {'class': 'listing-company-name'})\n",
    "#print(current)\n",
    "\n",
    "\n",
    "for jobs in current: \n",
    "    d = {}\n",
    "    d['Jobs'] = job_list.append(jobs.find('a').text)\n",
    "\n",
    "#print(job_list)\n",
    "\n",
    "df = pd.DataFrame(job_list)\n",
    "\n",
    "\n",
    "df.to_csv('Python-Jobs1.csv')\n",
    "\n",
    "print('Success')"
   ]
  }
 ],
 "metadata": {
  "kernelspec": {
   "display_name": "Python 3",
   "language": "python",
   "name": "python3"
  },
  "language_info": {
   "codemirror_mode": {
    "name": "ipython",
    "version": 3
   },
   "file_extension": ".py",
   "mimetype": "text/x-python",
   "name": "python",
   "nbconvert_exporter": "python",
   "pygments_lexer": "ipython3",
   "version": "3.6.0"
  }
 },
 "nbformat": 4,
 "nbformat_minor": 2
}
